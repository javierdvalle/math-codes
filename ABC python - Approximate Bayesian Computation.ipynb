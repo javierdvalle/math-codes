{
 "cells": [
  {
   "cell_type": "markdown",
   "metadata": {},
   "source": [
    "# Python version"
   ]
  },
  {
   "cell_type": "markdown",
   "metadata": {},
   "source": [
    "## Resources\n",
    "\n",
    "https://www.youtube.com/watch?v=nKCT-Cdk0xY\n",
    "\n",
    "https://academic.oup.com/bioinformatics/article/36/10/3286/5727756"
   ]
  },
  {
   "cell_type": "markdown",
   "metadata": {},
   "source": [
    "## Generative model"
   ]
  },
  {
   "cell_type": "code",
   "execution_count": 1,
   "metadata": {},
   "outputs": [],
   "source": [
    "n_pairs = 9\n",
    "n_odds = 5\n",
    "n_socks_types = n_pairs + n_odds"
   ]
  },
  {
   "cell_type": "code",
   "execution_count": 15,
   "metadata": {},
   "outputs": [],
   "source": [
    "paired_socks = sorted(list(range(1, n_pairs+1))*2)\n",
    "odds_socks = list(range(n_pairs+1, n_pairs+n_odds+1))\n",
    "socks = paired_socks + odds_socks"
   ]
  },
  {
   "cell_type": "code",
   "execution_count": 156,
   "metadata": {},
   "outputs": [
    {
     "data": {
      "text/plain": [
       "[8, 2, 1]"
      ]
     },
     "execution_count": 156,
     "metadata": {},
     "output_type": "execute_result"
    }
   ],
   "source": [
    "import random\n",
    "random.sample(socks, 3) # sample without replacement"
   ]
  },
  {
   "cell_type": "code",
   "execution_count": 30,
   "metadata": {},
   "outputs": [
    {
     "data": {
      "text/plain": [
       "[5, 4, 1, 2, 9, 10, 5, 6, 6, 4, 8]"
      ]
     },
     "execution_count": 30,
     "metadata": {},
     "output_type": "execute_result"
    }
   ],
   "source": [
    "def pick_socks(n_pairs=1, n_odd=1, n_pick=1):\n",
    "    paired_socks = sorted(list(range(1, n_pairs+1))*2)\n",
    "    odds_socks = list(range(n_pairs+1, n_pairs+n_odds+1))\n",
    "    socks = paired_socks + odds_socks\n",
    "    assert n_pick <= n_odd + 2*n_pairs\n",
    "    return random.sample(socks, n_pick)\n",
    "\n",
    "pick_socks(n_pairs=9, n_odd=5, n_pick=11)"
   ]
  },
  {
   "cell_type": "markdown",
   "metadata": {},
   "source": [
    "## Prior distributions"
   ]
  },
  {
   "cell_type": "code",
   "execution_count": 88,
   "metadata": {},
   "outputs": [],
   "source": [
    "from scipy.stats import nbinom, beta\n",
    "import pylab as plt"
   ]
  },
  {
   "cell_type": "code",
   "execution_count": 116,
   "metadata": {},
   "outputs": [
    {
     "data": {
      "text/plain": [
       "(array([  8.,  29.,  30., 103., 199., 190., 313., 298., 202., 227., 178.,\n",
       "         87.,  57.,  42.,  11.,  11.,  10.,   2.,   1.,   2.]),\n",
       " array([10.  , 12.65, 15.3 , 17.95, 20.6 , 23.25, 25.9 , 28.55, 31.2 ,\n",
       "        33.85, 36.5 , 39.15, 41.8 , 44.45, 47.1 , 49.75, 52.4 , 55.05,\n",
       "        57.7 , 60.35, 63.  ]),\n",
       " <BarContainer object of 20 artists>)"
      ]
     },
     "execution_count": 116,
     "metadata": {},
     "output_type": "execute_result"
    },
    {
     "data": {
      "image/png": "[encoded data removed]",
      "text/plain": [
       "<Figure size 432x288 with 1 Axes>"
      ]
     },
     "metadata": {
      "needs_background": "light"
     },
     "output_type": "display_data"
    }
   ],
   "source": [
    "n_socks_prior = {'r': 30, 'p': 0.5}\n",
    "r = nbinom.rvs(n_socks_prior['r'], n_socks_prior['p'], size=2000)  # get random values\n",
    "\n",
    "plt.hist(r, bins=20)"
   ]
  },
  {
   "cell_type": "code",
   "execution_count": 117,
   "metadata": {},
   "outputs": [
    {
     "data": {
      "text/plain": [
       "(array([  3.,   1.,   6.,   4.,   6.,  10.,   6.,  17.,  19.,  39.,  43.,\n",
       "         50.,  60.,  78., 104., 105., 123., 150., 115.,  61.]),\n",
       " array([0.55348782, 0.57566924, 0.59785066, 0.62003208, 0.64221349,\n",
       "        0.66439491, 0.68657633, 0.70875774, 0.73093916, 0.75312058,\n",
       "        0.77530199, 0.79748341, 0.81966483, 0.84184625, 0.86402766,\n",
       "        0.88620908, 0.9083905 , 0.93057191, 0.95275333, 0.97493475,\n",
       "        0.99711616]),\n",
       " <BarContainer object of 20 artists>)"
      ]
     },
     "execution_count": 117,
     "metadata": {},
     "output_type": "execute_result"
    },
    {
     "data": {
      "image/png": "[encoded data removed]",
      "text/plain": [
       "<Figure size 432x288 with 1 Axes>"
      ]
     },
     "metadata": {
      "needs_background": "light"
     },
     "output_type": "display_data"
    }
   ],
   "source": [
    "prop_pairs_prior = {'alpha': 15, 'beta': 2}\n",
    "r = beta.rvs(prop_pairs_prior['alpha'], prop_pairs_prior['beta'], size=1000)\n",
    "\n",
    "plt.hist(r, bins=20)"
   ]
  },
  {
   "cell_type": "markdown",
   "metadata": {},
   "source": [
    "## Perform ABC"
   ]
  },
  {
   "cell_type": "code",
   "execution_count": 157,
   "metadata": {},
   "outputs": [
    {
     "data": {
      "text/plain": [
       "[26, 36, 36, 42, 35, 36, 37, 41, 42, 54, 46, 41, 55, 39]"
      ]
     },
     "execution_count": 157,
     "metadata": {},
     "output_type": "execute_result"
    }
   ],
   "source": [
    "import math\n",
    "from collections import Counter\n",
    "from statistics import mean\n",
    "\n",
    "def simulation(niter=10):\n",
    "    n_socks_prior = {'r': 30, 'p': 0.5}\n",
    "    prop_pairs_prior = {'alpha': 15, 'beta': 2}\n",
    "    n_pick = 11\n",
    "    \n",
    "    posterior = []\n",
    "    \n",
    "    for i in range(niter):\n",
    "        # sample one value from each of the priors\n",
    "        n_socks = nbinom.rvs(n_socks_prior['r'], n_socks_prior['p'], size=1)[0]\n",
    "        prop_pairs = beta.rvs(prop_pairs_prior['alpha'], prop_pairs_prior['beta'], size=1)[0]\n",
    "        \n",
    "        n_pairs = int(round(math.floor(n_socks/2)*prop_pairs))\n",
    "        n_odd = n_socks - n_pairs * 2\n",
    "        n_sock_types = n_pairs + n_odd\n",
    "        \n",
    "        if n_pick > n_odd + 2 * n_pairs:\n",
    "            continue\n",
    "        \n",
    "        # run experiment\n",
    "        picked_socks = pick_socks(n_pairs=n_pairs, n_odd=n_odd, n_pick=n_pick)\n",
    "\n",
    "        # compute metric: count the number of unique socks\n",
    "        counts = Counter(picked_socks)\n",
    "        unique = len([x for x in counts if counts[x] == 1])\n",
    "        pairs = len([x for x in counts if counts[x] == 2])\n",
    "        \n",
    "        assert pairs*2 + unique == n_pick\n",
    "        \n",
    "        # accept or reject experiment\n",
    "        if unique == 11:\n",
    "            posterior.append(n_socks)\n",
    "    \n",
    "    return posterior\n",
    "\n",
    "posterior = simulation(100)\n",
    "posterior"
   ]
  },
  {
   "cell_type": "markdown",
   "metadata": {},
   "source": [
    "## visualize posterior"
   ]
  },
  {
   "cell_type": "code",
   "execution_count": 168,
   "metadata": {},
   "outputs": [
    {
     "name": "stdout",
     "output_type": "stream",
     "text": [
      "33\n"
     ]
    },
    {
     "data": {
      "text/plain": [
       "(array([  1.,  11.,  41.,  74., 159., 249., 357., 252., 551., 616., 683.,\n",
       "        599., 510., 478., 210., 311., 254., 171., 128.,  81.,  58.,  28.,\n",
       "          8.,  20.,   8.,   7.,   4.,   0.,   0.,   1.]),\n",
       " array([13.        , 14.86666667, 16.73333333, 18.6       , 20.46666667,\n",
       "        22.33333333, 24.2       , 26.06666667, 27.93333333, 29.8       ,\n",
       "        31.66666667, 33.53333333, 35.4       , 37.26666667, 39.13333333,\n",
       "        41.        , 42.86666667, 44.73333333, 46.6       , 48.46666667,\n",
       "        50.33333333, 52.2       , 54.06666667, 55.93333333, 57.8       ,\n",
       "        59.66666667, 61.53333333, 63.4       , 65.26666667, 67.13333333,\n",
       "        69.        ]),\n",
       " <BarContainer object of 30 artists>)"
      ]
     },
     "execution_count": 168,
     "metadata": {},
     "output_type": "execute_result"
    },
    {
     "data": {
      "image/png": "[encoded data removed]",
      "text/plain": [
       "<Figure size 432x288 with 1 Axes>"
      ]
     },
     "metadata": {
      "needs_background": "light"
     },
     "output_type": "display_data"
    }
   ],
   "source": [
    "posterior = simulation(50000)\n",
    "\n",
    "print(mean(posterior))\n",
    "\n",
    "plt.hist(posterior, bins=30)"
   ]
  },
  {
   "cell_type": "code",
   "execution_count": null,
   "metadata": {},
   "outputs": [],
   "source": []
  },
  {
   "cell_type": "code",
   "execution_count": null,
   "metadata": {},
   "outputs": [],
   "source": []
  }
 ],
 "metadata": {
  "kernelspec": {
   "display_name": "Python 3",
   "language": "python",
   "name": "python3"
  },
  "language_info": {
   "codemirror_mode": {
    "name": "ipython",
    "version": 3
   },
   "file_extension": ".py",
   "mimetype": "text/x-python",
   "name": "python",
   "nbconvert_exporter": "python",
   "pygments_lexer": "ipython3",
   "version": "3.8.5"
  }
 },
 "nbformat": 4,
 "nbformat_minor": 4
}
