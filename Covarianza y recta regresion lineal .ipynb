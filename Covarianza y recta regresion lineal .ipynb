{
 "cells": [
  {
   "cell_type": "markdown",
   "metadata": {},
   "source": [
    "# Recta de regresión lineal\n",
    "\n",
    "https://en.wikipedia.org/wiki/Sample_mean_and_covariance\n",
    "\n",
    "Recta regresión lineal:  $ y - \\bar{y} = \\frac{s_{xy}}{s_{x}^2}(x-\\bar{x}) $\n",
    "\n",
    "Varianza muestral: $ s_{x}^2 = \\frac{ \\sum{(x_i-\\bar{x})^2} }{ N-1 } $\n",
    "\n",
    "Covarianza muestral: $ s_{xy} = \\frac{ \\sum{(x_i-\\bar{x})(y_i-\\bar{y})} }{ N-1 } $\n",
    "\n",
    "**Grados de libertad:** La razón de usar N-1 en lugar de N en estas fórmulas, es que la media de la poblacion $E(X)$ es desconocida, y al reemplazarla por la media de la muestra $\\bar{X}$ se \"pierde un grado de libertad\" (Pensar caso extremo en que N=1. Si solo tenemos un elemento, la media $\\bar{X}$ va a ser él mismo, y su distancia a la media va a ser 0 mientras que la distancia a $E(X)$ (media de la poblacion, desconocida) probablemente no lo sea. Al usar $\\bar{X}$ estamos \"sumando una distancia menos\". De manera general, $\\bar{X}$ va a estar perfectamente centrada en nuestros datos, por lo que las distancias cuadráticas hasta ella son menores que hasta $E(X)$, que no está perfectamente centrada.\n",
    "\n"
   ]
  },
  {
   "cell_type": "code",
   "execution_count": 2,
   "metadata": {},
   "outputs": [
    {
     "data": {
      "text/plain": [
       "<matplotlib.collections.PathCollection at 0x7f7e840b82b0>"
      ]
     },
     "execution_count": 2,
     "metadata": {},
     "output_type": "execute_result"
    },
    {
     "data": {
      "image/png": "[encoded data removed]",
      "text/plain": [
       "<Figure size 432x288 with 1 Axes>"
      ]
     },
     "metadata": {
      "needs_background": "light"
     },
     "output_type": "display_data"
    }
   ],
   "source": [
    "import numpy as np \n",
    "import pylab as plt\n",
    "\n",
    "X = [8,7,6,4,2,1]\n",
    "Y = [15,19,25,23,34,40]\n",
    "\n",
    "plt.scatter(X, Y)"
   ]
  },
  {
   "cell_type": "markdown",
   "metadata": {},
   "source": [
    "# Covarianza entre dos variables \n",
    "\n",
    "Covarianza muestral: $ s_{xy} = \\frac{ \\sum{(x_i-\\bar{x})(y_i-\\bar{y})} }{ N-1 } $\n"
   ]
  },
  {
   "cell_type": "code",
   "execution_count": 3,
   "metadata": {},
   "outputs": [
    {
     "data": {
      "text/plain": [
       "-25.0"
      ]
     },
     "execution_count": 3,
     "metadata": {},
     "output_type": "execute_result"
    }
   ],
   "source": [
    "def covarianza(X, Y):\n",
    "    assert len(X)==len(Y)\n",
    "    mean_X = np.mean(X)\n",
    "    mean_Y = np.mean(Y)\n",
    "    return np.sum([(x-mean_X)*(y-mean_Y) for x,y in zip(X, Y)])/(len(X)-1)\n",
    "\n",
    "covarianza(X,Y)"
   ]
  },
  {
   "cell_type": "markdown",
   "metadata": {},
   "source": [
    "# Matriz de covarianza\n",
    "\n",
    "\n",
    "Si en lugar de 2 variables tenemos muchas más, se pueden calcular las covarianzas por parejas, para formar la matriz de covarianzas:\n",
    "\n",
    "![Matriz de covarianza](img/covarianza.svg)\n",
    "\n",
    "La diagonal contiene las varianzas de cada una de las variables."
   ]
  },
  {
   "cell_type": "code",
   "execution_count": 3,
   "metadata": {},
   "outputs": [
    {
     "name": "stdout",
     "output_type": "stream",
     "text": [
      "[8, 7, 6, 4, 2, 1]\n",
      "[15, 19, 25, 23, 34, 40]\n",
      "[[  7.86666667 -25.        ]\n",
      " [-25.          88.        ]]\n",
      "\n",
      "----\n",
      "\n",
      "7.866666666666665\n",
      "88.0\n",
      "\n",
      "----\n",
      "\n",
      "[[ 8  7  6  4  2  1]\n",
      " [15 19 25 23 34 40]]\n",
      "[[  7.86666667 -25.        ]\n",
      " [-25.          88.        ]]\n"
     ]
    }
   ],
   "source": [
    "# Calcular la matriz de covarianza de dos variables\n",
    "print(X)\n",
    "print(Y)\n",
    "print(np.cov(X,Y))\n",
    "\n",
    "print(\"\\n----\\n\")\n",
    "\n",
    "print(np.var(X, ddof=1)) # varianza, con 1 ddof\n",
    "print(np.var(Y, ddof=1))\n",
    "\n",
    "print(\"\\n----\\n\")\n",
    "\n",
    "# Tambien se puede calcular la covarianza de una matriz, con una fila por variable.\n",
    "# Cada columna contiene una única observacion de esas variables\n",
    "M = np.array(list(zip(X,Y))).T \n",
    "print(M)\n",
    "print(np.cov(M))"
   ]
  },
  {
   "cell_type": "markdown",
   "metadata": {},
   "source": [
    "# Recta regresión \n",
    "\n",
    "Recta regresión lineal:  $ y = \\frac{s_{xy}}{s_{x}^2}(x-\\bar{x}) + \\bar{y} $\n"
   ]
  },
  {
   "cell_type": "code",
   "execution_count": 4,
   "metadata": {},
   "outputs": [
    {
     "data": {
      "text/plain": [
       "<matplotlib.collections.PathCollection at 0x7fc41611b1d0>"
      ]
     },
     "execution_count": 4,
     "metadata": {},
     "output_type": "execute_result"
    },
    {
     "data": {
      "image/png": "[encoded data removed]",
      "text/plain": [
       "<Figure size 432x288 with 1 Axes>"
      ]
     },
     "metadata": {
      "needs_background": "light"
     },
     "output_type": "display_data"
    }
   ],
   "source": [
    "\n",
    "def build_regression(X, Y):\n",
    "    Y_mean = np.mean(Y)\n",
    "    X_mean = np.mean(X)\n",
    "\n",
    "    covar_xy = np.cov(X,Y)[0][1] \n",
    "    var_x = np.var(X,ddof=1)\n",
    "    \n",
    "    covar_var = covar_xy/var_x\n",
    "    \n",
    "    return lambda x: covar_var*(x-X_mean)+Y_mean\n",
    "\n",
    "regression = build_regression(X,Y)\n",
    "\n",
    "XX = range(10)\n",
    "YY = [regression(x) for x in XX]\n",
    "\n",
    "plt.plot(XX, YY, color='red')\n",
    "plt.scatter(X, Y)\n"
   ]
  }
 ],
 "metadata": {
  "kernelspec": {
   "display_name": "Python 3",
   "language": "python",
   "name": "python3"
  },
  "language_info": {
   "codemirror_mode": {
    "name": "ipython",
    "version": 3
   },
   "file_extension": ".py",
   "mimetype": "text/x-python",
   "name": "python",
   "nbconvert_exporter": "python",
   "pygments_lexer": "ipython3",
   "version": "3.6.9"
  }
 },
 "nbformat": 4,
 "nbformat_minor": 2
}
