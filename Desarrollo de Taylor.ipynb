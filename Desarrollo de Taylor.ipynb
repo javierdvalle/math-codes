{
 "cells": [
  {
   "cell_type": "markdown",
   "metadata": {},
   "source": [
    "## Taylor\n",
    "\n",
    "\n",
    "Desarrollo de Taylor de $f(t)$ en el entorno de $t=t_0$:\n",
    "\n",
    "$\n",
    "f(t) = f(t_0) + \\frac{f'(t_0)}{1!}(t-t_0) + \\frac{f''(t_0)}{2!}(t-t_0)^2 + ... + \\frac{f^{(n)}(t_0)}{n!}(t-t_0)^n + O((t-t_0)^{n+1})\n",
    "$"
   ]
  },
  {
   "cell_type": "markdown",
   "metadata": {},
   "source": [
    "## Funciones compuestas\n",
    "\n",
    "Ahora imaginemos que t es una función de h, escribimos $t(h)$, y queremos calcular el desarrollo de Taylor de $f(t(h))$ en el entorno de $h=h_0$:\n",
    "\n",
    "$\n",
    "f(t(h)) = f(t(h_0)) + \\frac{\\frac{d f}{d h}(h_0)}{1!}(h-h_0) + \\frac{\\frac{d^2 f}{d h^2}(h_0)}{2!}(h-h_0)^2 + ... + O((h-h_0)^{n+1})\n",
    "$\n",
    "\n",
    "Por la regla de la cadena, sabemos que:\n",
    "\n",
    ">$\n",
    "\\frac{d f}{d h} = \\frac{d f}{d t} \\frac{d t}{d h} \\\\\n",
    "\\frac{d^2 f}{d h^2} = \\frac{d^2 f}{d t^2} \\frac{d t}{d h} \\frac{d t}{d h} + \\frac{d f}{d t} \\frac{d^2 t}{d h^2} = \\frac{d^2 f}{d t^2} (\\frac{d t}{d h})^2 + \\frac{d f}{d t} \\frac{d^2 t}{d h^2} \\\\\n",
    "\\quad \\vdots\n",
    "$\n",
    "\n",
    "Sustituimos:\n",
    "\n",
    "$\n",
    "f(t(h)) = f(t(h_0)) + \\frac{[\\frac{d f}{d t} \\frac{d t}{d h}](h_0)}{1!}(h-h_0) + \\frac{[\\frac{d^2 f}{d t^2} (\\frac{d t}{d h})^2 + \\frac{d f}{d t} \\frac{d^2 t}{d h^2}] (h_0)}{2!}(h-h_0)^2 + ... + O((h-h_0)^{n+1}) \\\\\n",
    "$\n",
    "\n",
    "Si por ejemplo, nos dan que $t(h)=t_0+h$ y que $h_0 = 0$, podemos simplificar algunas cosas:\n",
    "\n",
    "$\n",
    "\\frac{d t}{d h} = 1 \\\\\n",
    "\\frac{d^2 t}{d h^2} = 0 \\\\\n",
    "t_0 = t(h_0) \\\\\n",
    "t = t_0 + h \\\\\n",
    "h = t - t_0 \\\\\n",
    "f(t) = f(t_0) + \\frac{[\\frac{d f}{d t}](t_0)}{1!}(t-t_0) + \\frac{[\\frac{d^2 f}{d t^2}] (t_0)}{2!}(t-t_0)^2 + ... + O((t-t_0)^{n+1}) \\\\\n",
    "$\n",
    "\n",
    "Y nos queda el desarrollo normal de $f(t)$"
   ]
  }
 ],
 "metadata": {
  "kernelspec": {
   "display_name": "Python 3",
   "language": "python",
   "name": "python3"
  },
  "language_info": {
   "codemirror_mode": {
    "name": "ipython",
    "version": 3
   },
   "file_extension": ".py",
   "mimetype": "text/x-python",
   "name": "python",
   "nbconvert_exporter": "python",
   "pygments_lexer": "ipython3",
   "version": "3.6.9"
  }
 },
 "nbformat": 4,
 "nbformat_minor": 2
}
