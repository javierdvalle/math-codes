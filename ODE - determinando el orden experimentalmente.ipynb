{
 "cells": [
  {
   "cell_type": "markdown",
   "metadata": {},
   "source": [
    "## Determinar el orden experimentalmente\n",
    "\n",
    "El experimento es simple: usar el método para calcular la integral de una función conocida, usando dos valores para el paso $h$ diferentes y comparar ambos resultados.  \n",
    "\n",
    "https://www.youtube.com/watch?v=6O9D6am_RK4&list=PLMsYJgjgZE8iBpOBZEsS8PuwNBkwMcjix&index=60"
   ]
  },
  {
   "cell_type": "markdown",
   "metadata": {},
   "source": [
    "## Teorema Fundamental del Cálculo\n",
    "\n",
    "https://es.wikipedia.org/wiki/Teorema_fundamental_del_c%C3%A1lculo\n",
    "\n",
    "\n",
    "\n",
    "Dada una función f(x) integrable en el intervalo $[a,b]$ y sea F(x) cualquier función primitiva de f, es decir F '(x) = f(x). Entonces:\n",
    "\n",
    "$\n",
    "\\int_{a}^{b}{f(x) d(x)} = F(b) − F(a)\n",
    "$\n",
    "\n",
    "Dado un PVI:\n",
    "\n",
    "$\n",
    "\\begin{cases}\n",
    "y'(t) = f(t) \\\\\n",
    "y(t_0) = y_0\n",
    "\\end{cases}\n",
    "$\n",
    "\n",
    "Vemos que calcular la solución $\\hat{y}(t)$ es lo mismo que integrar numéricamente $f(t)$. Además, pongamos que conocemos la solución exacta $y(t)$. Podemos compararla con la numérica. "
   ]
  },
  {
   "cell_type": "markdown",
   "metadata": {},
   "source": [
    "## Ejemplo\n",
    "\n",
    "$\n",
    "\\begin{cases}\n",
    "y'(t) = \\frac{1}{(1+t)^2} \\\\\n",
    "y(0) = 0\n",
    "\\end{cases}\n",
    "$\n",
    "\n",
    "Sabemos que $y(t) = -\\frac{1}{1+t} + 1$\n",
    "\n",
    "Calculamos por ejemplo la integral entre $t=0$ y $t=1$, o lo que es lo mismo, $y(1) - y(0)$, de manera analítica: \n",
    "\n",
    "$\n",
    "\\int_0^1{\\frac{1}{(1+t)^2}} = y(1) - y(0) = [-\\frac{1}{1+1}+1]-[-\\frac{1}{1+0}+1] = \\frac{1}{2}\n",
    "$\n",
    "\n",
    "De hecho el valor inicial y(0) = 0 está escogido para simplificar lo anterior: solo necesitamos calcular $y(1)$\n",
    "\n",
    "Tambien calculamos $y(1)$ de manera numérica y nos debería de salir un valor próximo a $1/2$. Probamos usando varios valores de $h$: cuanto más pequeño sea $h$ menor será el error cometido por el método. \n",
    "\n",
    ">Precisamente, **el orden del método indica cuánto se reduce el error al reducir h**.\n",
    "\n",
    "El ratio entre los dos errores obtenidos con dos pasos h distintos es equivalente al orden del método.\n",
    "\n",
    "Por ejemplo si el método tiene orden $O(h^3)$ y calculamos dos soluciones: una con paso h y otra con paso h/2 los errores quedan $e_{h} \\approx O(h^3)$ y $e_{h/2} \\approx O((\\frac{h}{2})^3)$. Eso quiere decir que:\n",
    "\n",
    ">$\\frac{e_1}{e_2} \\approx O(\\frac{h^n}{(h/2)^n}) = O((\\frac{h}{(h/2)})^n) = O(2^n) \\quad \\rightarrow  \\quad \\log_2{\\frac{e_1}{e_2}} \\approx O(n)$"
   ]
  },
  {
   "cell_type": "markdown",
   "metadata": {},
   "source": [
    "## Preguntas: \n",
    "\n",
    "**1. ¿Qué f(t) es mejor usar? ¿hay alguna que se comporta mejor como modelo para \"detectar\" el orden de los métodos?**\n",
    "\n",
    "**2. ¿Es mejor avanzar un solo paso o varios? En un caso estaríamos estimando el error local y en el otro el global ¿Qué relación hay entre ellos?**"
   ]
  },
  {
   "cell_type": "code",
   "execution_count": 68,
   "metadata": {},
   "outputs": [
    {
     "name": "stdout",
     "output_type": "stream",
     "text": [
      "ratio=2.0380008996874377, log(ratio)=1.0271546883900458, orden=1\n",
      "ratio=3.9934133712889754, log(ratio)=1.997622417786525, orden=2\n",
      "ratio=15.89199980684104, log(ratio)=3.990228775890807, orden=4\n"
     ]
    },
    {
     "data": {
      "text/plain": [
       "4"
      ]
     },
     "execution_count": 68,
     "metadata": {},
     "output_type": "execute_result"
    }
   ],
   "source": [
    "import numpy as np\n",
    "import math\n",
    "\n",
    "def euler(f, t0=0, t_end=10, y0=0, h=0.1):\n",
    "    tn, yn = t0, y0\n",
    "    ts, ys = [t0], [y0]\n",
    "\n",
    "    assert len(f(t0, y0)) == len(y0)\n",
    "\n",
    "    for _ in range(int((t_end-t0)/h)):\n",
    "        yn = yn + h*f(tn, yn)\n",
    "        tn = tn + h\n",
    "        ts.append(tn)\n",
    "        ys.append(yn)\n",
    "    return ts, np.array(ys)\n",
    "\n",
    "\n",
    "def heun(f, t0=0, t_end=10, y0=0, h=0.1):\n",
    "    tn, yn = t0, y0\n",
    "    ts, ys = [t0], [y0]\n",
    "\n",
    "    assert len(f(t0, y0)) == len(y0)\n",
    "\n",
    "    for _ in range(int((t_end-t0)/h)):\n",
    "        yn = yn + h*0.5*(f(tn, yn) + f(tn + h, yn + h*f(tn,yn)))\n",
    "        tn = tn + h\n",
    "        ts.append(tn)\n",
    "        ys.append(yn)\n",
    "    return ts, np.array(ys)\n",
    "\n",
    "\n",
    "def rungekutta(f, t0=0, t_end=10, y0=0, h=0.1):\n",
    "    tn, yn = t0, y0\n",
    "    ts, ys = [t0], [y0]\n",
    "\n",
    "    assert len(f(t0, y0)) == len(y0)\n",
    "\n",
    "    for _ in range(int((t_end-t0)/h)):\n",
    "        k1 = f(tn, yn)\n",
    "        k2 = f(tn+(h/2), yn+(h/2)*k1)\n",
    "        k3 = f(tn+(h/2), yn+(h/2)*k2)\n",
    "        k4 = f(tn+h, yn+h*k3)\n",
    "        yn = yn + h*(1/6)*(k1+2*k2+2*k3+k4)\n",
    "        tn = tn + h\n",
    "        ts.append(tn)\n",
    "        ys.append(yn)\n",
    "    return ts, np.array(ys)\n",
    "\n",
    "\n",
    "def method_order(method, **kwargs):\n",
    "    f = lambda t, y: np.array([1/(1+t)**2])\n",
    "    exact = 0.5\n",
    "    h = 0.1\n",
    "    T,Y1 = method(f, t0 = 0, t_end = 1, y0 = [0], h = h, **kwargs)\n",
    "    T,Y2 = method(f, t0 = 0, t_end = 1, y0 = [0], h = h/2, **kwargs)\n",
    "    ratio = (Y1[-1][0] - exact) / (Y2[-1][0] - exact)\n",
    "    p = round(math.log2(ratio))\n",
    "    print(f\"ratio={ratio}, log(ratio)={math.log2(ratio)}, orden={p}\")\n",
    "    return p\n",
    "\n",
    "\n",
    "method_order(euler)\n",
    "method_order(heun)\n",
    "method_order(rungekutta)"
   ]
  },
  {
   "cell_type": "markdown",
   "metadata": {},
   "source": [
    "## Probando distintas funciones"
   ]
  },
  {
   "cell_type": "code",
   "execution_count": 71,
   "metadata": {},
   "outputs": [
    {
     "name": "stdout",
     "output_type": "stream",
     "text": [
      "exact=[1.71828183] ratio=[1.98319818], log(ratio)=0.9878288553726013, orden=1\n",
      "exact=[1.71828183] ratio=[3.99950013], log(ratio)=1.999819697999071, orden=2\n",
      "exact=[1.71828183] ratio=[15.99642985], log(ratio)=3.999678048789134, orden=4\n"
     ]
    },
    {
     "data": {
      "text/plain": [
       "1.718281828459045"
      ]
     },
     "execution_count": 71,
     "metadata": {},
     "output_type": "execute_result"
    }
   ],
   "source": [
    "def method_order(method, f, y, h=0.1, **kwargs):\n",
    "    t_end = 1\n",
    "    exact = y(t_end)\n",
    "    T,Y1 = method(f, t0 = 0, t_end = t_end, y0 = [0], h = h, **kwargs)\n",
    "    T,Y2 = method(f, t0 = 0, t_end = t_end, y0 = [0], h = h/2, **kwargs)\n",
    "    ratio = (Y1[-1][0] - exact) / (Y2[-1][0] - exact)\n",
    "    p = round(math.log2(ratio))\n",
    "    print(f\"exact={exact} ratio={ratio}, log(ratio)={math.log2(ratio)}, orden={p}\")\n",
    "    return p\n",
    "\n",
    "\n",
    "f = lambda t, y: np.array([1/(1+t)**2])\n",
    "y = lambda t: np.array([-(1/(1+t))+1])\n",
    "\n",
    "f = lambda t, y: np.array([t])\n",
    "y = lambda t: np.array([t**2])\n",
    "\n",
    "f = lambda t, y: np.array([np.exp(t)])\n",
    "y = lambda t: np.array([np.exp(t)-1])\n",
    "\n",
    "method_order(euler, f, y)\n",
    "method_order(heun, f, y)\n",
    "method_order(rungekutta, f, y)\n",
    "\n",
    "np.exp(1)-1"
   ]
  }
 ],
 "metadata": {
  "kernelspec": {
   "display_name": "Python 3",
   "language": "python",
   "name": "python3"
  },
  "language_info": {
   "codemirror_mode": {
    "name": "ipython",
    "version": 3
   },
   "file_extension": ".py",
   "mimetype": "text/x-python",
   "name": "python",
   "nbconvert_exporter": "python",
   "pygments_lexer": "ipython3",
   "version": "3.6.9"
  }
 },
 "nbformat": 4,
 "nbformat_minor": 2
}
