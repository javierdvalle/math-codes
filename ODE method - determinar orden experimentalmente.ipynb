{
 "cells": [
  {
   "cell_type": "markdown",
   "metadata": {},
   "source": [
    "## Determinar orden experimentalmente\n",
    "\n",
    "El experimento es simple: usar el método para calcular la integral de una función conocida, usando dos valores para el paso $h$ diferentes y comparar ambos resultados.  \n",
    "\n",
    "https://www.youtube.com/watch?v=6O9D6am_RK4&list=PLMsYJgjgZE8iBpOBZEsS8PuwNBkwMcjix&index=60"
   ]
  },
  {
   "cell_type": "markdown",
   "metadata": {},
   "source": [
    "## Teorema Fundamental del Cálculo\n",
    "\n",
    "https://es.wikipedia.org/wiki/Teorema_fundamental_del_c%C3%A1lculo\n",
    "\n",
    "\n",
    "\n",
    "Dada una función f(x) integrable en el intervalo $[a,b]$ y sea F(x) cualquier función primitiva de f, es decir F '(x) = f(x). Entonces:\n",
    "\n",
    "$\n",
    "\\int_{a}^{b}{f(x) d(x)} = F(b) − F(a)\n",
    "$\n"
   ]
  },
  {
   "cell_type": "code",
   "execution_count": 1,
   "metadata": {},
   "outputs": [],
   "source": [
    "import numpy as np\n",
    "import math\n",
    "\n",
    "def method_order(method, **kwargs):\n",
    "    \"\"\" \n",
    "    Experiment to determine the order of an ODE solver\n",
    "    https://youtu.be/6O9D6am_RK4\n",
    "    \"\"\"\n",
    "    f = lambda t, y: np.array([1/(1+t)**2])\n",
    "    exact = 0.5\n",
    "    h = 0.1\n",
    "    T,Y1 = method(f, t0=0, t_end=1, y0=[0], h=h, **kwargs)\n",
    "    T,Y2 = method(f, t0=0, t_end=1, y0=[0], h=h/2, **kwargs)\n",
    "    ratio = (Y1[-1][0] - exact) / (Y2[-1][0] - exact)\n",
    "    p = round(math.log2(ratio))\n",
    "    return p"
   ]
  },
  {
   "cell_type": "code",
   "execution_count": 2,
   "metadata": {},
   "outputs": [],
   "source": [
    "def euler(f, t0=0, t_end=10, y0=0, h=0.1):\n",
    "    tn, yn = t0, y0\n",
    "    ts, ys = [t0], [t0]\n",
    "\n",
    "    assert len(f(t0, y0)) == len(y0)\n",
    "\n",
    "    for _ in range(int((t_end-t0)/h)):\n",
    "        yn = yn + h*f(tn, yn)\n",
    "        tn = tn + h\n",
    "        ts.append(tn)\n",
    "        ys.append(yn)\n",
    "\n",
    "    return ts, np.array(ys)"
   ]
  },
  {
   "cell_type": "code",
   "execution_count": 3,
   "metadata": {},
   "outputs": [
    {
     "data": {
      "text/plain": [
       "1"
      ]
     },
     "execution_count": 3,
     "metadata": {},
     "output_type": "execute_result"
    }
   ],
   "source": [
    "method_order(euler)"
   ]
  }
 ],
 "metadata": {
  "kernelspec": {
   "display_name": "Python 3",
   "language": "python",
   "name": "python3"
  },
  "language_info": {
   "codemirror_mode": {
    "name": "ipython",
    "version": 3
   },
   "file_extension": ".py",
   "mimetype": "text/x-python",
   "name": "python",
   "nbconvert_exporter": "python",
   "pygments_lexer": "ipython3",
   "version": "3.6.9"
  }
 },
 "nbformat": 4,
 "nbformat_minor": 2
}
