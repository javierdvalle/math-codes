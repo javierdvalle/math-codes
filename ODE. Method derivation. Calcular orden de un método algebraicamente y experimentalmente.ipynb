{
 "cells": [
  {
   "cell_type": "markdown",
   "metadata": {},
   "source": [
    "## Problema de Valor Inicial\n",
    "\n",
    "Dado un PVI: $\n",
    "\\begin{cases}\n",
    "y'(t) = f(t, y) \\\\\n",
    "y(t_0) = y_0\n",
    "\\end{cases}\n",
    "$\n",
    "\n",
    "Nuestro objetivo es encontrar la función $y(t)$, es decir, integrar f(t,y)."
   ]
  },
  {
   "cell_type": "markdown",
   "metadata": {},
   "source": [
    "## Taylor expansion & method derivation.\n",
    "\n",
    "\n",
    "La idea para construir un método es la siguiente: queremos aproximar la solución exacta $y(t)$, que tiene el siguiente desarrollo de Taylor en $t=t_0$:\n",
    "\n",
    "$\n",
    "y(t) = y(t_0) + \\frac{y'(t_0)}{1!}(t-t_0) + \\frac{y''(t_0)}{2!}(t-t_0)^2 + ... + \\frac{y^{(n)}(t_0)}{n!}(t-t_0)^n + O(h^{n+1})\n",
    "$\n",
    "\n",
    "Es importante señalar que en esa ecuación ambos lados son EXACTAMENTE IGUALES gracias a que la parte derecha incluye el término de error $O(h^{n+1})$.\n",
    "\n",
    "Si queremos usar ese desarrollo de taylor como método numérico, podemos \"avanzar un paso\" evaluando en $t_1$: (usamos que $h=t_1-t_0$)\n",
    "\n",
    "$\n",
    "y(t_1) = y(t_0) + \\frac{y'(t_0)}{1!}(h) + \\frac{y''(t_0)}{2!}(h)^2 + ... + \\frac{y^{(n)}(t_0)}{n!}(h)^n + O(h^{n+1})\n",
    "$\n",
    "\n",
    "Todos los métodos numéricos tratan de parecerse lo más posible a esa fórmula. Por ejemplo el método de Euler es igual al desarrollo de Taylor usando los dos primeros términos y error $O(h^2)$. \n",
    "\n",
    "En general, todos los métodos son de la forma:\n",
    "\n",
    "$\n",
    "y_{1}=y_{{0}}+hA(t_{{0}},y_{{0}},h,f)\n",
    "$"
   ]
  },
  {
   "cell_type": "markdown",
   "metadata": {},
   "source": [
    "## Local truncation error. Order.\n",
    "\n",
    "https://en.wikipedia.org/wiki/Truncation_error_(numerical_integration)\n",
    "\n",
    "\n",
    "> **Error local (truncation error)**\n",
    "> $$\\tau = exacta - numérica = y(t+h) - \\hat{y}(t+h) \\\\ \\quad = y(t+h) - [y(t)+hA(t,y(t),h,f)]$$\n",
    "> \n",
    "> donde $y(t+h)$ se suele sustituir por su desarrollo de Taylor en $t$\n",
    ">\n",
    "> Un método tiene **orden n** si tiene error local $O(h^{n+1})$ es decir, si se construye de forma igual al desarrollo de Taylor con $n$ términos.\n",
    "\n",
    "\n",
    "De hecho, el desarrollo de Taylor completo sería un método numérico perfecto si usásemos infinitos términos. Queremos que nuestro método se parezca al desarrollo de Taylor. Pero tenemos dos problemas: el primero, que obviamente no podemos usar infinitos términos; y el segundo, que necesitaríamos calcular las derivadas analíticamente (\"a mano\").\n",
    "\n",
    "El primer problema se soluciona de la forma obvia: nos quedamos con unos cuantos términos, y el resto lo metemos en el término de error (¡precisamente este término de error es el que llamamos error local!). El segundo problema, el de calcular las derivadas a mano, es donde radica la magia de crear un método numérico.\n",
    "\n",
    "\n",
    "La primera derivada ya la tenemos, ya que por definición $y'(t) = f(t,y)$, y conocemos $f$. Para las siguientes, derivamos esa fórmula usando la regla de la cadena y sustituimos $y'(t) = f(t,y)$:\n",
    "\n",
    ">$\n",
    "y'(t) = f(t,y(t))  \\\\\n",
    "y''(t) = \\frac{d f(t, y(t))}{dt} = \\frac{\\partial f(t, y(t))}{\\partial t} + \\frac{\\partial f(t, y(t))}{\\partial y} \\frac{\\partial y(t)}{\\partial t} = \\\\ \\qquad = f_t(t, y(t)) + f_y(t, y(t)) y'(t) = \\\\ \\qquad = f_t(t, y(t)) + f_y(t, y(t)) f(t, y(t)) \\\\\n",
    "y'''(t) = \\dots\n",
    "$\n",
    "\n",
    "Pero seguimos necesitando encontrar una forma de encontrar $f'(t,y)$. Usamos esta aproximación, que obtenemos derivando el método de Euler:\n",
    "\n",
    "$\n",
    "y(t+h) = y(t) + h f(t,y) + O(h^2) \\\\\n",
    "y'(t+h) = y'(t) + h f'(t,y) \\\\\n",
    "f(t+h, y(t+h)) = f(t,y) + h f'(t,y) \\\\\n",
    "f(t+h, y(t)+hf(t,y)) \\approx f(t,y) + h f'(t,y) \\\\\n",
    "f'(t,y) \\approx \\frac{f(t+h, y(t)+hf(t,y)) - f(t,y)}{h}\n",
    "$\n",
    "\n",
    "REVISAR!!!\n",
    "\n",
    "La técnica se observa en la derivación del método de Runge-Kutta: https://en.wikipedia.org/wiki/Runge%E2%80%93Kutta_methods#Derivation_of_the_Runge%E2%80%93Kutta_fourth-order_method\n",
    "\n",
    "REVISAR!!!"
   ]
  },
  {
   "cell_type": "markdown",
   "metadata": {},
   "source": [
    "## Ejemplo cálculo error local: Método de Euler\n",
    "\n",
    "Cambiamos de notación:\n",
    "$ \n",
    "y_{n+1} = y_n + hf(t_n, y_n) \\quad \\rightarrow \\quad \\hat{y}(t_0+h) = y(t_0) + hf(t_0, y(t_0)) \\\\ \n",
    "$\n",
    "\n",
    "Sustituimos el método en la ecuación del error local, y sustituimos la solución exacta por su desarrollo de Taylor, y tambien usamos $y'(t) = f(t,y)$:\n",
    "\n",
    "$\n",
    "\\tau = y(t_0+h) - \\hat{y}(t_0+h) = \\\\\n",
    "\\quad = [y(t_0+h)] - [y(t_0) + hf(t_0,y(t_0))] = \\\\\n",
    "\\quad = [y(t_0) + \\frac{y'(t_0)}{1!}(t_0+h-t_0) + O(h^2)] - [y(t_0) + hf(t_0,y(t_0))] = \\\\\n",
    "\\quad = y'(t_0)h + O(h^2) - hf(t_0,y(t_0)) = \\\\\n",
    "\\quad = hf(t_0,y(t_0)) + O(h^2) - hf(t_0,y(t_0)) \\quad = \\quad O(h^2)\n",
    "$"
   ]
  },
  {
   "cell_type": "markdown",
   "metadata": {},
   "source": [
    "## Experimentally calculate order\n",
    "\n",
    "El experimento es simple: usar el método para calcular la integral de una función conocida, usando dos valores para el paso $h$ diferentes y comparar ambos resultados.  \n",
    "\n",
    "https://www.youtube.com/watch?v=6O9D6am_RK4&list=PLMsYJgjgZE8iBpOBZEsS8PuwNBkwMcjix&index=60"
   ]
  },
  {
   "cell_type": "markdown",
   "metadata": {},
   "source": [
    "## Teorema Fundamental del Cálculo\n",
    "\n",
    "https://es.wikipedia.org/wiki/Teorema_fundamental_del_c%C3%A1lculo\n",
    "\n",
    "\n",
    "\n",
    "Dada una función f(x) integrable en el intervalo $[a,b]$ y sea F(x) cualquier función primitiva de f, es decir F '(x) = f(x). Entonces:\n",
    "\n",
    "$\n",
    "\\int_{a}^{b}{f(x) d(x)} = F(b) − F(a)\n",
    "$\n"
   ]
  },
  {
   "cell_type": "markdown",
   "metadata": {},
   "source": [
    "## Code"
   ]
  },
  {
   "cell_type": "code",
   "execution_count": 8,
   "metadata": {},
   "outputs": [],
   "source": [
    "import numpy as np\n",
    "import math\n",
    "\n",
    "def method_order(method, **kwargs):\n",
    "    \"\"\" \n",
    "    Experiment to determine the order of an ODE solver\n",
    "    https://youtu.be/6O9D6am_RK4\n",
    "    \"\"\"\n",
    "    f = lambda t, y: np.array([1/(1+t)**2])\n",
    "    exact = 0.5\n",
    "    h = 0.1\n",
    "    T,Y1 = method(f, t0=0, t_end=1, y0=[0], h=h, **kwargs)\n",
    "    T,Y2 = method(f, t0=0, t_end=1, y0=[0], h=h/2, **kwargs)\n",
    "    ratio = (Y1[-1][0] - exact) / (Y2[-1][0] - exact)\n",
    "    p = round(math.log2(ratio))\n",
    "    return p"
   ]
  },
  {
   "cell_type": "code",
   "execution_count": 9,
   "metadata": {},
   "outputs": [],
   "source": [
    "def euler(f, t0=0, t_end=10, y0=0, h=0.1):\n",
    "    tn, yn = t0, y0\n",
    "    ts, ys = [t0], [t0]\n",
    "\n",
    "    assert len(f(t0, y0)) == len(y0)\n",
    "\n",
    "    for _ in range(int((t_end-t0)/h)):\n",
    "        yn = yn + h*f(tn, yn)\n",
    "        tn = tn + h\n",
    "        ts.append(tn)\n",
    "        ys.append(yn)\n",
    "\n",
    "    return ts, np.array(ys)"
   ]
  },
  {
   "cell_type": "code",
   "execution_count": 10,
   "metadata": {},
   "outputs": [
    {
     "data": {
      "text/plain": [
       "1"
      ]
     },
     "execution_count": 10,
     "metadata": {},
     "output_type": "execute_result"
    }
   ],
   "source": [
    "method_order(euler)"
   ]
  }
 ],
 "metadata": {
  "kernelspec": {
   "display_name": "Python 3",
   "language": "python",
   "name": "python3"
  },
  "language_info": {
   "codemirror_mode": {
    "name": "ipython",
    "version": 3
   },
   "file_extension": ".py",
   "mimetype": "text/x-python",
   "name": "python",
   "nbconvert_exporter": "python",
   "pygments_lexer": "ipython3",
   "version": "3.6.9"
  }
 },
 "nbformat": 4,
 "nbformat_minor": 2
}
