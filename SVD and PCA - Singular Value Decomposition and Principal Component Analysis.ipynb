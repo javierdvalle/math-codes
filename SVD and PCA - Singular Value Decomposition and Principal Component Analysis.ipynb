{
 "cells": [
  {
   "cell_type": "markdown",
   "metadata": {},
   "source": [
    "## Singular Value Decomposition \n",
    "\n",
    "Recursos:\n",
    "1. SVD mining of massive datasets, Stanford: https://www.youtube.com/watch?v=P5mlg91as1c&feature=youtu.be   \n",
    "2. PCA vídeo StatQuest, double bam!!: https://www.youtube.com/watch?v=FgakZw6K1QQ&feature=youtu.be\n",
    "3. Relación SVD y PCA: https://stats.stackexchange.com/questions/134282/relationship-between-svd-and-pca-how-to-use-svd-to-perform-pca\n"
   ]
  },
  {
   "cell_type": "markdown",
   "metadata": {},
   "source": [
    "Definición factorización SVD:\n",
    "\n",
    ">$A_{[m\\ x\\ r]} = U_{[m\\ x\\ r]} \\Sigma_{[r\\ x\\ r]} (V_{[n\\ x\\ r]})^T$\n",
    "\n",
    "\n",
    "Factores latentes: $r$ factores latentes, cada uno \"representa\" una característica\n",
    "\n",
    "$\\Sigma$ es la matriz diagonal que contiene el peso de cada factor latente\n",
    "\n"
   ]
  },
  {
   "cell_type": "markdown",
   "metadata": {},
   "source": [
    "$$\n",
    "\\left[\\begin{array}{ccc} \n",
    "& & \\\\\n",
    "& A & \\\\\n",
    "& &\n",
    "\\end{array}\\right]\n",
    "\\approx\n",
    "\\left[\\begin{array}{c} \n",
    "\\\\ \n",
    "U\\\\\n",
    "\\\\\n",
    "\\end{array}\\right]\n",
    "\\left[\\begin{array}{c}\n",
    "\\Sigma\n",
    "\\end{array}\\right]\n",
    "\\left[\\begin{array}{c}\n",
    "& V &\n",
    "\\end{array}\\right]\n",
    "$$"
   ]
  },
  {
   "cell_type": "code",
   "execution_count": 18,
   "metadata": {},
   "outputs": [
    {
     "name": "stdout",
     "output_type": "stream",
     "text": [
      "[[ 1.   1. ]\n",
      " [ 1.   1.3]\n",
      " [ 1.1  0.9]\n",
      " [ 9.  10. ]\n",
      " [ 9.5  9.5]]\n"
     ]
    },
    {
     "data": {
      "text/plain": [
       "<matplotlib.collections.PathCollection at 0x7fc9b18cb550>"
      ]
     },
     "execution_count": 18,
     "metadata": {},
     "output_type": "execute_result"
    },
    {
     "data": {
      "image/png": "[encoded data removed]",
      "text/plain": [
       "<Figure size 432x288 with 1 Axes>"
      ]
     },
     "metadata": {
      "needs_background": "light"
     },
     "output_type": "display_data"
    }
   ],
   "source": [
    "import pylab as plt\n",
    "X = np.array([[1,1], [1,1.3], [1.1, 0.9], [9,10], [9.5, 9.5]])\n",
    "\n",
    "print(X)\n",
    "plt.scatter(X[:,0], X[:,1])\n"
   ]
  },
  {
   "cell_type": "code",
   "execution_count": 22,
   "metadata": {},
   "outputs": [
    {
     "name": "stdout",
     "output_type": "stream",
     "text": [
      "[[-0.07370577  0.06648168]\n",
      " [-0.08505193 -0.30334282]\n",
      " [-0.07351224  0.31967952]\n",
      " [-0.70117245 -0.63441322]\n",
      " [-0.70020481  0.63157596]]\n",
      "[19.18067379  0.5583485 ]\n",
      "[[-0.68830319 -0.72542313]\n",
      " [ 0.72542313 -0.68830319]]\n"
     ]
    },
    {
     "data": {
      "text/plain": [
       "<matplotlib.collections.PathCollection at 0x7fc9b17dcac8>"
      ]
     },
     "execution_count": 22,
     "metadata": {},
     "output_type": "execute_result"
    },
    {
     "data": {
      "image/png": "[encoded data removed]",
      "text/plain": [
       "<Figure size 432x288 with 1 Axes>"
      ]
     },
     "metadata": {
      "needs_background": "light"
     },
     "output_type": "display_data"
    }
   ],
   "source": [
    "U, S, VH = np.linalg.svd(X, full_matrices=False)\n",
    "print(U) # U contiene los puntos de X representados en la nueva base\n",
    "print(S)\n",
    "print(VH)\n",
    "\n",
    "plt.scatter(U[:,0], U[:,1])\n"
   ]
  },
  {
   "cell_type": "markdown",
   "metadata": {},
   "source": []
  }
 ],
 "metadata": {
  "kernelspec": {
   "display_name": "Python 3",
   "language": "python",
   "name": "python3"
  },
  "language_info": {
   "codemirror_mode": {
    "name": "ipython",
    "version": 3
   },
   "file_extension": ".py",
   "mimetype": "text/x-python",
   "name": "python",
   "nbconvert_exporter": "python",
   "pygments_lexer": "ipython3",
   "version": "3.6.7"
  }
 },
 "nbformat": 4,
 "nbformat_minor": 2
}
