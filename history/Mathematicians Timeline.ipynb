{
 "cells": [
  {
   "cell_type": "code",
   "execution_count": 1,
   "metadata": {},
   "outputs": [
    {
     "data": {
      "text/html": [
       "<script type=\"text/javascript\">window.PlotlyConfig = {MathJaxConfig: 'local'};</script><script type=\"text/javascript\">if (window.MathJax) {MathJax.Hub.Config({SVG: {font: \"STIX-Web\"}});}</script><script>requirejs.config({paths: { 'plotly': ['https://cdn.plot.ly/plotly-latest.min']},});if(!window._Plotly) {require(['plotly'],function(plotly) {window._Plotly=plotly;});}</script>"
      ],
      "text/vnd.plotly.v1+html": [
       "<script type=\"text/javascript\">window.PlotlyConfig = {MathJaxConfig: 'local'};</script><script type=\"text/javascript\">if (window.MathJax) {MathJax.Hub.Config({SVG: {font: \"STIX-Web\"}});}</script><script>requirejs.config({paths: { 'plotly': ['https://cdn.plot.ly/plotly-latest.min']},});if(!window._Plotly) {require(['plotly'],function(plotly) {window._Plotly=plotly;});}</script>"
      ]
     },
     "metadata": {},
     "output_type": "display_data"
    },
    {
     "data": {
      "application/vnd.plotly.v1+json": {
       "config": {
        "linkText": "Export to plot.ly",
        "plotlyServerURL": "https://plot.ly",
        "showLink": true
       },
       "data": [
        {
         "base": [
          1175,
          1596,
          1607,
          1623,
          1643,
          1646,
          1701,
          1707,
          1736,
          1777,
          1811,
          1826,
          1854,
          1877,
          1887,
          1906,
          1912,
          1928,
          1953
         ],
         "hoverinfo": "text",
         "hoverlabel": {
          "bgcolor": "black",
          "bordercolor": "black",
          "font": {
           "color": "white"
          }
         },
         "marker": {
          "color": "rgba(55, 128, 191, 0.7)",
          "line": {
           "color": "rgba(55, 128, 191, 1.0)",
           "width": 1
          }
         },
         "orientation": "h",
         "text": [
          " Fibonacci<br> Born: 1175<br> Died: 1240<br>",
          " Descartes<br> Born: 1596<br> Died: 1650<br>",
          " Fermat<br> Born: 1607<br> Died: 1665<br>",
          " Blaise Pascal<br> Born: 1623<br> Died: 1662<br>",
          " Isaac Newton<br> Born: 1643<br> Died: 1727<br>",
          " Gottfried Wilhelm Leibniz<br> Born: 1646<br> Died: 1716<br>",
          " Thomas Bayes<br> Born: 1701<br> Died: 1761<br>",
          " Euler<br> Born: 1707<br> Died: 1783<br>",
          " Lagrange<br> Born: 1736<br> Died: 1813<br>",
          " Gauss<br> Born: 1777<br> Died: 1855<br>",
          " Evariste Galois<br> Born: 1811<br> Died: 1832<br>",
          " Riemann<br> Born: 1826<br> Died: 1866<br>",
          " Poincare<br> Born: 1854<br> Died: 1912<br>",
          " G. H. Hardy<br> Born: 1877<br> Died: 1947<br>",
          " Ramanujan<br> Born: 1887<br> Died: 1920<br>",
          " Kurt Godel<br> Born: 1906<br> Died: 1978<br>",
          " Alan Turing<br> Born: 1912<br> Died: 1954<br>",
          " John Forbes Nash<br> Born: 1928<br> Died: 2015<br>",
          " Andrew Wiles<br> Born: 1953<br> Died: 2018<br>"
         ],
         "type": "bar",
         "uid": "fc41dbe7-531e-4ba6-8282-c4d7cb2d3635",
         "x": [
          65,
          54,
          58,
          39,
          84,
          70,
          60,
          76,
          77,
          78,
          21,
          40,
          58,
          70,
          33,
          72,
          42,
          87,
          65
         ],
         "y": [
          "Fibonacci",
          "Descartes",
          "Fermat",
          "Blaise Pascal",
          "Isaac Newton",
          "Gottfried Wilhelm Leibniz",
          "Thomas Bayes",
          "Euler",
          "Lagrange",
          "Gauss",
          "Evariste Galois",
          "Riemann",
          "Poincare",
          "G. H. Hardy",
          "Ramanujan",
          "Kurt Godel",
          "Alan Turing",
          "John Forbes Nash",
          "Andrew Wiles"
         ]
        }
       ],
       "layout": {
        "annotations": [
         {
          "font": {
           "color": "rgba(0, 0, 0, 1)",
           "family": "Arial",
           "size": 10
          },
          "showarrow": false,
          "text": "Fibonacci",
          "x": 1175,
          "xanchor": "left",
          "y": "Fibonacci"
         },
         {
          "font": {
           "color": "rgba(0, 0, 0, 1)",
           "family": "Arial",
           "size": 10
          },
          "showarrow": false,
          "text": "Descartes",
          "x": 1596,
          "xanchor": "left",
          "y": "Descartes"
         },
         {
          "font": {
           "color": "rgba(0, 0, 0, 1)",
           "family": "Arial",
           "size": 10
          },
          "showarrow": false,
          "text": "Fermat",
          "x": 1607,
          "xanchor": "left",
          "y": "Fermat"
         },
         {
          "font": {
           "color": "rgba(0, 0, 0, 1)",
           "family": "Arial",
           "size": 10
          },
          "showarrow": false,
          "text": "Blaise Pascal",
          "x": 1623,
          "xanchor": "left",
          "y": "Blaise Pascal"
         },
         {
          "font": {
           "color": "rgba(0, 0, 0, 1)",
           "family": "Arial",
           "size": 10
          },
          "showarrow": false,
          "text": "Isaac Newton",
          "x": 1643,
          "xanchor": "left",
          "y": "Isaac Newton"
         },
         {
          "font": {
           "color": "rgba(0, 0, 0, 1)",
           "family": "Arial",
           "size": 10
          },
          "showarrow": false,
          "text": "Gottfried Wilhelm Leibniz",
          "x": 1646,
          "xanchor": "left",
          "y": "Gottfried Wilhelm Leibniz"
         },
         {
          "font": {
           "color": "rgba(0, 0, 0, 1)",
           "family": "Arial",
           "size": 10
          },
          "showarrow": false,
          "text": "Thomas Bayes",
          "x": 1701,
          "xanchor": "left",
          "y": "Thomas Bayes"
         },
         {
          "font": {
           "color": "rgba(0, 0, 0, 1)",
           "family": "Arial",
           "size": 10
          },
          "showarrow": false,
          "text": "Euler",
          "x": 1707,
          "xanchor": "left",
          "y": "Euler"
         },
         {
          "font": {
           "color": "rgba(0, 0, 0, 1)",
           "family": "Arial",
           "size": 10
          },
          "showarrow": false,
          "text": "Lagrange",
          "x": 1736,
          "xanchor": "left",
          "y": "Lagrange"
         },
         {
          "font": {
           "color": "rgba(0, 0, 0, 1)",
           "family": "Arial",
           "size": 10
          },
          "showarrow": false,
          "text": "Gauss",
          "x": 1777,
          "xanchor": "left",
          "y": "Gauss"
         },
         {
          "font": {
           "color": "rgba(0, 0, 0, 1)",
           "family": "Arial",
           "size": 10
          },
          "showarrow": false,
          "text": "Evariste Galois",
          "x": 1811,
          "xanchor": "left",
          "y": "Evariste Galois"
         },
         {
          "font": {
           "color": "rgba(0, 0, 0, 1)",
           "family": "Arial",
           "size": 10
          },
          "showarrow": false,
          "text": "Riemann",
          "x": 1826,
          "xanchor": "left",
          "y": "Riemann"
         },
         {
          "font": {
           "color": "rgba(0, 0, 0, 1)",
           "family": "Arial",
           "size": 10
          },
          "showarrow": false,
          "text": "Poincare",
          "x": 1854,
          "xanchor": "left",
          "y": "Poincare"
         },
         {
          "font": {
           "color": "rgba(0, 0, 0, 1)",
           "family": "Arial",
           "size": 10
          },
          "showarrow": false,
          "text": "G. H. Hardy",
          "x": 1877,
          "xanchor": "left",
          "y": "G. H. Hardy"
         },
         {
          "font": {
           "color": "rgba(0, 0, 0, 1)",
           "family": "Arial",
           "size": 10
          },
          "showarrow": false,
          "text": "Ramanujan",
          "x": 1887,
          "xanchor": "left",
          "y": "Ramanujan"
         },
         {
          "font": {
           "color": "rgba(0, 0, 0, 1)",
           "family": "Arial",
           "size": 10
          },
          "showarrow": false,
          "text": "Kurt Godel",
          "x": 1906,
          "xanchor": "left",
          "y": "Kurt Godel"
         },
         {
          "font": {
           "color": "rgba(0, 0, 0, 1)",
           "family": "Arial",
           "size": 10
          },
          "showarrow": false,
          "text": "Alan Turing",
          "x": 1912,
          "xanchor": "left",
          "y": "Alan Turing"
         },
         {
          "font": {
           "color": "rgba(0, 0, 0, 1)",
           "family": "Arial",
           "size": 10
          },
          "showarrow": false,
          "text": "John Forbes Nash",
          "x": 1928,
          "xanchor": "left",
          "y": "John Forbes Nash"
         },
         {
          "font": {
           "color": "rgba(0, 0, 0, 1)",
           "family": "Arial",
           "size": 10
          },
          "showarrow": false,
          "text": "Andrew Wiles",
          "x": 1953,
          "xanchor": "left",
          "y": "Andrew Wiles"
         }
        ],
        "barmode": "stack",
        "paper_bgcolor": "rgba(245, 246, 249, 1)",
        "plot_bgcolor": "rgba(245, 246, 249, 1)",
        "showlegend": false,
        "title": "Mathematicians",
        "xaxis": {
         "range": [
          1175,
          2018
         ],
         "tickangle": -45
        }
       }
      },
      "text/html": [
       "<div id=\"0810289c-b7ef-43a9-93c0-6496b06eafbb\" style=\"height: 525px; width: 100%;\" class=\"plotly-graph-div\"></div><script type=\"text/javascript\">require([\"plotly\"], function(Plotly) { window.PLOTLYENV=window.PLOTLYENV || {};window.PLOTLYENV.BASE_URL=\"https://plot.ly\";Plotly.newPlot(\"0810289c-b7ef-43a9-93c0-6496b06eafbb\", [{\"base\": [1175, 1596, 1607, 1623, 1643, 1646, 1701, 1707, 1736, 1777, 1811, 1826, 1854, 1877, 1887, 1906, 1912, 1928, 1953], \"hoverinfo\": \"text\", \"hoverlabel\": {\"bgcolor\": \"black\", \"bordercolor\": \"black\", \"font\": {\"color\": \"white\"}}, \"marker\": {\"color\": \"rgba(55, 128, 191, 0.7)\", \"line\": {\"color\": \"rgba(55, 128, 191, 1.0)\", \"width\": 1}}, \"orientation\": \"h\", \"text\": [\" Fibonacci<br> Born: 1175<br> Died: 1240<br>\", \" Descartes<br> Born: 1596<br> Died: 1650<br>\", \" Fermat<br> Born: 1607<br> Died: 1665<br>\", \" Blaise Pascal<br> Born: 1623<br> Died: 1662<br>\", \" Isaac Newton<br> Born: 1643<br> Died: 1727<br>\", \" Gottfried Wilhelm Leibniz<br> Born: 1646<br> Died: 1716<br>\", \" Thomas Bayes<br> Born: 1701<br> Died: 1761<br>\", \" Euler<br> Born: 1707<br> Died: 1783<br>\", \" Lagrange<br> Born: 1736<br> Died: 1813<br>\", \" Gauss<br> Born: 1777<br> Died: 1855<br>\", \" Evariste Galois<br> Born: 1811<br> Died: 1832<br>\", \" Riemann<br> Born: 1826<br> Died: 1866<br>\", \" Poincare<br> Born: 1854<br> Died: 1912<br>\", \" G. H. Hardy<br> Born: 1877<br> Died: 1947<br>\", \" Ramanujan<br> Born: 1887<br> Died: 1920<br>\", \" Kurt Godel<br> Born: 1906<br> Died: 1978<br>\", \" Alan Turing<br> Born: 1912<br> Died: 1954<br>\", \" John Forbes Nash<br> Born: 1928<br> Died: 2015<br>\", \" Andrew Wiles<br> Born: 1953<br> Died: 2018<br>\"], \"x\": [65, 54, 58, 39, 84, 70, 60, 76, 77, 78, 21, 40, 58, 70, 33, 72, 42, 87, 65], \"y\": [\"Fibonacci\", \"Descartes\", \"Fermat\", \"Blaise Pascal\", \"Isaac Newton\", \"Gottfried Wilhelm Leibniz\", \"Thomas Bayes\", \"Euler\", \"Lagrange\", \"Gauss\", \"Evariste Galois\", \"Riemann\", \"Poincare\", \"G. H. Hardy\", \"Ramanujan\", \"Kurt Godel\", \"Alan Turing\", \"John Forbes Nash\", \"Andrew Wiles\"], \"type\": \"bar\", \"uid\": \"fc41dbe7-531e-4ba6-8282-c4d7cb2d3635\"}], {\"annotations\": [{\"font\": {\"color\": \"rgba(0, 0, 0, 1)\", \"family\": \"Arial\", \"size\": 10}, \"showarrow\": false, \"text\": \"Fibonacci\", \"x\": 1175, \"xanchor\": \"left\", \"y\": \"Fibonacci\"}, {\"font\": {\"color\": \"rgba(0, 0, 0, 1)\", \"family\": \"Arial\", \"size\": 10}, \"showarrow\": false, \"text\": \"Descartes\", \"x\": 1596, \"xanchor\": \"left\", \"y\": \"Descartes\"}, {\"font\": {\"color\": \"rgba(0, 0, 0, 1)\", \"family\": \"Arial\", \"size\": 10}, \"showarrow\": false, \"text\": \"Fermat\", \"x\": 1607, \"xanchor\": \"left\", \"y\": \"Fermat\"}, {\"font\": {\"color\": \"rgba(0, 0, 0, 1)\", \"family\": \"Arial\", \"size\": 10}, \"showarrow\": false, \"text\": \"Blaise Pascal\", \"x\": 1623, \"xanchor\": \"left\", \"y\": \"Blaise Pascal\"}, {\"font\": {\"color\": \"rgba(0, 0, 0, 1)\", \"family\": \"Arial\", \"size\": 10}, \"showarrow\": false, \"text\": \"Isaac Newton\", \"x\": 1643, \"xanchor\": \"left\", \"y\": \"Isaac Newton\"}, {\"font\": {\"color\": \"rgba(0, 0, 0, 1)\", \"family\": \"Arial\", \"size\": 10}, \"showarrow\": false, \"text\": \"Gottfried Wilhelm Leibniz\", \"x\": 1646, \"xanchor\": \"left\", \"y\": \"Gottfried Wilhelm Leibniz\"}, {\"font\": {\"color\": \"rgba(0, 0, 0, 1)\", \"family\": \"Arial\", \"size\": 10}, \"showarrow\": false, \"text\": \"Thomas Bayes\", \"x\": 1701, \"xanchor\": \"left\", \"y\": \"Thomas Bayes\"}, {\"font\": {\"color\": \"rgba(0, 0, 0, 1)\", \"family\": \"Arial\", \"size\": 10}, \"showarrow\": false, \"text\": \"Euler\", \"x\": 1707, \"xanchor\": \"left\", \"y\": \"Euler\"}, {\"font\": {\"color\": \"rgba(0, 0, 0, 1)\", \"family\": \"Arial\", \"size\": 10}, \"showarrow\": false, \"text\": \"Lagrange\", \"x\": 1736, \"xanchor\": \"left\", \"y\": \"Lagrange\"}, {\"font\": {\"color\": \"rgba(0, 0, 0, 1)\", \"family\": \"Arial\", \"size\": 10}, \"showarrow\": false, \"text\": \"Gauss\", \"x\": 1777, \"xanchor\": \"left\", \"y\": \"Gauss\"}, {\"font\": {\"color\": \"rgba(0, 0, 0, 1)\", \"family\": \"Arial\", \"size\": 10}, \"showarrow\": false, \"text\": \"Evariste Galois\", \"x\": 1811, \"xanchor\": \"left\", \"y\": \"Evariste Galois\"}, {\"font\": {\"color\": \"rgba(0, 0, 0, 1)\", \"family\": \"Arial\", \"size\": 10}, \"showarrow\": false, \"text\": \"Riemann\", \"x\": 1826, \"xanchor\": \"left\", \"y\": \"Riemann\"}, {\"font\": {\"color\": \"rgba(0, 0, 0, 1)\", \"family\": \"Arial\", \"size\": 10}, \"showarrow\": false, \"text\": \"Poincare\", \"x\": 1854, \"xanchor\": \"left\", \"y\": \"Poincare\"}, {\"font\": {\"color\": \"rgba(0, 0, 0, 1)\", \"family\": \"Arial\", \"size\": 10}, \"showarrow\": false, \"text\": \"G. H. Hardy\", \"x\": 1877, \"xanchor\": \"left\", \"y\": \"G. H. Hardy\"}, {\"font\": {\"color\": \"rgba(0, 0, 0, 1)\", \"family\": \"Arial\", \"size\": 10}, \"showarrow\": false, \"text\": \"Ramanujan\", \"x\": 1887, \"xanchor\": \"left\", \"y\": \"Ramanujan\"}, {\"font\": {\"color\": \"rgba(0, 0, 0, 1)\", \"family\": \"Arial\", \"size\": 10}, \"showarrow\": false, \"text\": \"Kurt Godel\", \"x\": 1906, \"xanchor\": \"left\", \"y\": \"Kurt Godel\"}, {\"font\": {\"color\": \"rgba(0, 0, 0, 1)\", \"family\": \"Arial\", \"size\": 10}, \"showarrow\": false, \"text\": \"Alan Turing\", \"x\": 1912, \"xanchor\": \"left\", \"y\": \"Alan Turing\"}, {\"font\": {\"color\": \"rgba(0, 0, 0, 1)\", \"family\": \"Arial\", \"size\": 10}, \"showarrow\": false, \"text\": \"John Forbes Nash\", \"x\": 1928, \"xanchor\": \"left\", \"y\": \"John Forbes Nash\"}, {\"font\": {\"color\": \"rgba(0, 0, 0, 1)\", \"family\": \"Arial\", \"size\": 10}, \"showarrow\": false, \"text\": \"Andrew Wiles\", \"x\": 1953, \"xanchor\": \"left\", \"y\": \"Andrew Wiles\"}], \"barmode\": \"stack\", \"paper_bgcolor\": \"rgba(245, 246, 249, 1)\", \"plot_bgcolor\": \"rgba(245, 246, 249, 1)\", \"showlegend\": false, \"title\": \"Mathematicians\", \"xaxis\": {\"range\": [1175, 2018], \"tickangle\": -45}}, {\"showLink\": true, \"linkText\": \"Export to plot.ly\", \"plotlyServerURL\": \"https://plot.ly\"})});</script><script type=\"text/javascript\">window.addEventListener(\"resize\", function(){window._Plotly.Plots.resize(document.getElementById(\"0810289c-b7ef-43a9-93c0-6496b06eafbb\"));});</script>"
      ],
      "text/vnd.plotly.v1+html": [
       "<div id=\"0810289c-b7ef-43a9-93c0-6496b06eafbb\" style=\"height: 525px; width: 100%;\" class=\"plotly-graph-div\"></div><script type=\"text/javascript\">require([\"plotly\"], function(Plotly) { window.PLOTLYENV=window.PLOTLYENV || {};window.PLOTLYENV.BASE_URL=\"https://plot.ly\";Plotly.newPlot(\"0810289c-b7ef-43a9-93c0-6496b06eafbb\", [{\"base\": [1175, 1596, 1607, 1623, 1643, 1646, 1701, 1707, 1736, 1777, 1811, 1826, 1854, 1877, 1887, 1906, 1912, 1928, 1953], \"hoverinfo\": \"text\", \"hoverlabel\": {\"bgcolor\": \"black\", \"bordercolor\": \"black\", \"font\": {\"color\": \"white\"}}, \"marker\": {\"color\": \"rgba(55, 128, 191, 0.7)\", \"line\": {\"color\": \"rgba(55, 128, 191, 1.0)\", \"width\": 1}}, \"orientation\": \"h\", \"text\": [\" Fibonacci<br> Born: 1175<br> Died: 1240<br>\", \" Descartes<br> Born: 1596<br> Died: 1650<br>\", \" Fermat<br> Born: 1607<br> Died: 1665<br>\", \" Blaise Pascal<br> Born: 1623<br> Died: 1662<br>\", \" Isaac Newton<br> Born: 1643<br> Died: 1727<br>\", \" Gottfried Wilhelm Leibniz<br> Born: 1646<br> Died: 1716<br>\", \" Thomas Bayes<br> Born: 1701<br> Died: 1761<br>\", \" Euler<br> Born: 1707<br> Died: 1783<br>\", \" Lagrange<br> Born: 1736<br> Died: 1813<br>\", \" Gauss<br> Born: 1777<br> Died: 1855<br>\", \" Evariste Galois<br> Born: 1811<br> Died: 1832<br>\", \" Riemann<br> Born: 1826<br> Died: 1866<br>\", \" Poincare<br> Born: 1854<br> Died: 1912<br>\", \" G. H. Hardy<br> Born: 1877<br> Died: 1947<br>\", \" Ramanujan<br> Born: 1887<br> Died: 1920<br>\", \" Kurt Godel<br> Born: 1906<br> Died: 1978<br>\", \" Alan Turing<br> Born: 1912<br> Died: 1954<br>\", \" John Forbes Nash<br> Born: 1928<br> Died: 2015<br>\", \" Andrew Wiles<br> Born: 1953<br> Died: 2018<br>\"], \"x\": [65, 54, 58, 39, 84, 70, 60, 76, 77, 78, 21, 40, 58, 70, 33, 72, 42, 87, 65], \"y\": [\"Fibonacci\", \"Descartes\", \"Fermat\", \"Blaise Pascal\", \"Isaac Newton\", \"Gottfried Wilhelm Leibniz\", \"Thomas Bayes\", \"Euler\", \"Lagrange\", \"Gauss\", \"Evariste Galois\", \"Riemann\", \"Poincare\", \"G. H. Hardy\", \"Ramanujan\", \"Kurt Godel\", \"Alan Turing\", \"John Forbes Nash\", \"Andrew Wiles\"], \"type\": \"bar\", \"uid\": \"fc41dbe7-531e-4ba6-8282-c4d7cb2d3635\"}], {\"annotations\": [{\"font\": {\"color\": \"rgba(0, 0, 0, 1)\", \"family\": \"Arial\", \"size\": 10}, \"showarrow\": false, \"text\": \"Fibonacci\", \"x\": 1175, \"xanchor\": \"left\", \"y\": \"Fibonacci\"}, {\"font\": {\"color\": \"rgba(0, 0, 0, 1)\", \"family\": \"Arial\", \"size\": 10}, \"showarrow\": false, \"text\": \"Descartes\", \"x\": 1596, \"xanchor\": \"left\", \"y\": \"Descartes\"}, {\"font\": {\"color\": \"rgba(0, 0, 0, 1)\", \"family\": \"Arial\", \"size\": 10}, \"showarrow\": false, \"text\": \"Fermat\", \"x\": 1607, \"xanchor\": \"left\", \"y\": \"Fermat\"}, {\"font\": {\"color\": \"rgba(0, 0, 0, 1)\", \"family\": \"Arial\", \"size\": 10}, \"showarrow\": false, \"text\": \"Blaise Pascal\", \"x\": 1623, \"xanchor\": \"left\", \"y\": \"Blaise Pascal\"}, {\"font\": {\"color\": \"rgba(0, 0, 0, 1)\", \"family\": \"Arial\", \"size\": 10}, \"showarrow\": false, \"text\": \"Isaac Newton\", \"x\": 1643, \"xanchor\": \"left\", \"y\": \"Isaac Newton\"}, {\"font\": {\"color\": \"rgba(0, 0, 0, 1)\", \"family\": \"Arial\", \"size\": 10}, \"showarrow\": false, \"text\": \"Gottfried Wilhelm Leibniz\", \"x\": 1646, \"xanchor\": \"left\", \"y\": \"Gottfried Wilhelm Leibniz\"}, {\"font\": {\"color\": \"rgba(0, 0, 0, 1)\", \"family\": \"Arial\", \"size\": 10}, \"showarrow\": false, \"text\": \"Thomas Bayes\", \"x\": 1701, \"xanchor\": \"left\", \"y\": \"Thomas Bayes\"}, {\"font\": {\"color\": \"rgba(0, 0, 0, 1)\", \"family\": \"Arial\", \"size\": 10}, \"showarrow\": false, \"text\": \"Euler\", \"x\": 1707, \"xanchor\": \"left\", \"y\": \"Euler\"}, {\"font\": {\"color\": \"rgba(0, 0, 0, 1)\", \"family\": \"Arial\", \"size\": 10}, \"showarrow\": false, \"text\": \"Lagrange\", \"x\": 1736, \"xanchor\": \"left\", \"y\": \"Lagrange\"}, {\"font\": {\"color\": \"rgba(0, 0, 0, 1)\", \"family\": \"Arial\", \"size\": 10}, \"showarrow\": false, \"text\": \"Gauss\", \"x\": 1777, \"xanchor\": \"left\", \"y\": \"Gauss\"}, {\"font\": {\"color\": \"rgba(0, 0, 0, 1)\", \"family\": \"Arial\", \"size\": 10}, \"showarrow\": false, \"text\": \"Evariste Galois\", \"x\": 1811, \"xanchor\": \"left\", \"y\": \"Evariste Galois\"}, {\"font\": {\"color\": \"rgba(0, 0, 0, 1)\", \"family\": \"Arial\", \"size\": 10}, \"showarrow\": false, \"text\": \"Riemann\", \"x\": 1826, \"xanchor\": \"left\", \"y\": \"Riemann\"}, {\"font\": {\"color\": \"rgba(0, 0, 0, 1)\", \"family\": \"Arial\", \"size\": 10}, \"showarrow\": false, \"text\": \"Poincare\", \"x\": 1854, \"xanchor\": \"left\", \"y\": \"Poincare\"}, {\"font\": {\"color\": \"rgba(0, 0, 0, 1)\", \"family\": \"Arial\", \"size\": 10}, \"showarrow\": false, \"text\": \"G. H. Hardy\", \"x\": 1877, \"xanchor\": \"left\", \"y\": \"G. H. Hardy\"}, {\"font\": {\"color\": \"rgba(0, 0, 0, 1)\", \"family\": \"Arial\", \"size\": 10}, \"showarrow\": false, \"text\": \"Ramanujan\", \"x\": 1887, \"xanchor\": \"left\", \"y\": \"Ramanujan\"}, {\"font\": {\"color\": \"rgba(0, 0, 0, 1)\", \"family\": \"Arial\", \"size\": 10}, \"showarrow\": false, \"text\": \"Kurt Godel\", \"x\": 1906, \"xanchor\": \"left\", \"y\": \"Kurt Godel\"}, {\"font\": {\"color\": \"rgba(0, 0, 0, 1)\", \"family\": \"Arial\", \"size\": 10}, \"showarrow\": false, \"text\": \"Alan Turing\", \"x\": 1912, \"xanchor\": \"left\", \"y\": \"Alan Turing\"}, {\"font\": {\"color\": \"rgba(0, 0, 0, 1)\", \"family\": \"Arial\", \"size\": 10}, \"showarrow\": false, \"text\": \"John Forbes Nash\", \"x\": 1928, \"xanchor\": \"left\", \"y\": \"John Forbes Nash\"}, {\"font\": {\"color\": \"rgba(0, 0, 0, 1)\", \"family\": \"Arial\", \"size\": 10}, \"showarrow\": false, \"text\": \"Andrew Wiles\", \"x\": 1953, \"xanchor\": \"left\", \"y\": \"Andrew Wiles\"}], \"barmode\": \"stack\", \"paper_bgcolor\": \"rgba(245, 246, 249, 1)\", \"plot_bgcolor\": \"rgba(245, 246, 249, 1)\", \"showlegend\": false, \"title\": \"Mathematicians\", \"xaxis\": {\"range\": [1175, 2018], \"tickangle\": -45}}, {\"showLink\": true, \"linkText\": \"Export to plot.ly\", \"plotlyServerURL\": \"https://plot.ly\"})});</script><script type=\"text/javascript\">window.addEventListener(\"resize\", function(){window._Plotly.Plots.resize(document.getElementById(\"0810289c-b7ef-43a9-93c0-6496b06eafbb\"));});</script>"
      ]
     },
     "metadata": {},
     "output_type": "display_data"
    }
   ],
   "source": [
    "import plotly.graph_objs as go\n",
    "import pandas as pd\n",
    "from plotly.offline import download_plotlyjs, init_notebook_mode, plot, iplot\n",
    "init_notebook_mode(connected=True)\n",
    "\n",
    "\n",
    "df = pd.read_csv('data/math.csv')\n",
    "df=df.sort_values('Start')\n",
    "df=df.reset_index(drop=True)\n",
    "\n",
    "def get_year(text):\n",
    "    splitted = str(text).split('-')\n",
    "    if len(splitted) != 3:\n",
    "        return 0\n",
    "    year, month, day = [int(x) for x in splitted]\n",
    "    return year\n",
    "\n",
    "df['Finish'] = df['Finish'].apply(get_year)\n",
    "df['Start'] = df['Start'].apply(get_year)\n",
    "\n",
    "\n",
    "def build_timeline(names, start, finish):\n",
    "    def draw_info(name, s, f):\n",
    "        info = \" {}<br> Born: {}<br> Died: {}<br>\".format(name, s, f)\n",
    "        return info\n",
    "    htmlinfo = [draw_info(name, s, f) for name, s, f in zip(names, start, finish)]\n",
    "    \n",
    "    base = start\n",
    "    lenghts = [y - x for x, y in zip(start, finish)]\n",
    "\n",
    "    trace1 = go.Bar(x=lenghts, y=names, orientation='h', \n",
    "                    marker={'color':'rgba(55, 128, 191, 0.7)', \n",
    "                            'line': {'color': 'rgba(55, 128, 191, 1.0)', 'width':1}},\n",
    "                    base=base, \n",
    "                    text=htmlinfo, \n",
    "                    hoverinfo='text',\n",
    "                    hoverlabel={'bgcolor':'black', \n",
    "                                'bordercolor':'black', \n",
    "                                'font': {'color':'white'}})\n",
    "    \n",
    "    \n",
    "    annotations = []\n",
    "    for i in range(len(names)):\n",
    "        annotations.append(dict(x=start[i], y=names[i], text=names[i],\n",
    "                                      font=dict(family='Arial', size=10,\n",
    "                                      color='rgba(0, 0, 0, 1)'),\n",
    "                                      xanchor='left',\n",
    "                                      showarrow=False,))\n",
    "    \n",
    "    layout = go.Layout(\n",
    "            title='Mathematicians',\n",
    "            barmode='stack',\n",
    "            paper_bgcolor='rgba(245, 246, 249, 1)',\n",
    "            plot_bgcolor='rgba(245, 246, 249, 1)',\n",
    "            showlegend=False,\n",
    "            xaxis=dict(tickangle=-45, range=[min(df['Start']), max(df['Finish'])]),\n",
    "            annotations=annotations)\n",
    "    \n",
    "    data = [trace1]\n",
    "    fig = go.Figure(data=data, layout=layout)\n",
    "    return fig\n",
    "\n",
    "names = df['Task']\n",
    "start = df['Start']\n",
    "finish = df['Finish']\n",
    "\n",
    "fig = build_timeline(names, start, finish)\n",
    "iplot(fig, filename='mathematicians.html')"
   ]
  }
 ],
 "metadata": {
  "kernelspec": {
   "display_name": "Python 3",
   "language": "python",
   "name": "python3"
  },
  "language_info": {
   "codemirror_mode": {
    "name": "ipython",
    "version": 3
   },
   "file_extension": ".py",
   "mimetype": "text/x-python",
   "name": "python",
   "nbconvert_exporter": "python",
   "pygments_lexer": "ipython3",
   "version": "3.6.7"
  }
 },
 "nbformat": 4,
 "nbformat_minor": 2
}
