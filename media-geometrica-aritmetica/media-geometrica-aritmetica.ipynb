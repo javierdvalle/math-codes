{
 "cells": [
  {
   "cell_type": "code",
   "execution_count": 3,
   "metadata": {},
   "outputs": [
    {
     "data": {
      "text/html": [
       "\n",
       "        <iframe\n",
       "            width=\"600\"\n",
       "            height=\"300\"\n",
       "            src=\"./PEC_2020_modelo_14.pdf\"\n",
       "            frameborder=\"0\"\n",
       "            allowfullscreen\n",
       "        ></iframe>\n",
       "        "
      ],
      "text/plain": [
       "<IPython.lib.display.IFrame at 0x7f9194125cf8>"
      ]
     },
     "execution_count": 3,
     "metadata": {},
     "output_type": "execute_result"
    }
   ],
   "source": [
    "from IPython.display import IFrame\n",
    "IFrame(\"./PEC_2020_modelo_14.pdf\", width=600, height=300)"
   ]
  },
  {
   "cell_type": "markdown",
   "metadata": {},
   "source": [
    "## Enunciado 2 (0.5 puntos)\n",
    "Consideremos todos los pares ordenados $(n, m)$ de números naturales tales que $0 < n < m < 10^6$.\n",
    "¿Cuántos de esos pares son tales que su media aritmética es 2 unidades menor que su media geométrica? (Razona bien todos los pasos de tu explicación).\n",
    "\n"
   ]
  },
  {
   "cell_type": "code",
   "execution_count": 2,
   "metadata": {},
   "outputs": [
    {
     "name": "stdout",
     "output_type": "stream",
     "text": [
      "(1,9) --> (1, 3), arit:5.0, geom:3.0\n",
      "(4,16) --> (2, 4), arit:10.0, geom:8.0\n",
      "(9,25) --> (3, 5), arit:17.0, geom:15.0\n",
      "(16,36) --> (4, 6), arit:26.0, geom:24.0\n",
      "(25,49) --> (5, 7), arit:37.0, geom:35.0\n",
      "(36,64) --> (6, 8), arit:50.0, geom:48.0\n",
      "(49,81) --> (7, 9), arit:65.0, geom:63.0\n",
      "(64,100) --> (8, 10), arit:82.0, geom:80.0\n",
      "(81,121) --> (9, 11), arit:101.0, geom:99.0\n",
      "(100,144) --> (10, 12), arit:122.0, geom:120.0\n",
      "(121,169) --> (11, 13), arit:145.0, geom:143.0\n",
      "(144,196) --> (12, 14), arit:170.0, geom:168.0\n",
      "(169,225) --> (13, 15), arit:197.0, geom:195.0\n",
      "(196,256) --> (14, 16), arit:226.0, geom:224.0\n",
      "(225,289) --> (15, 17), arit:257.0, geom:255.0\n",
      "(256,324) --> (16, 18), arit:290.0, geom:288.0\n",
      "(289,361) --> (17, 19), arit:325.0, geom:323.0\n",
      "(324,400) --> (18, 20), arit:362.0, geom:360.0\n",
      "(361,441) --> (19, 21), arit:401.0, geom:399.0\n",
      "(400,484) --> (20, 22), arit:442.0, geom:440.0\n",
      "(441,529) --> (21, 23), arit:485.0, geom:483.0\n",
      "(484,576) --> (22, 24), arit:530.0, geom:528.0\n",
      "(529,625) --> (23, 25), arit:577.0, geom:575.0\n",
      "(576,676) --> (24, 26), arit:626.0, geom:624.0\n",
      "(625,729) --> (25, 27), arit:677.0, geom:675.0\n",
      "(676,784) --> (26, 28), arit:730.0, geom:728.0\n",
      "(729,841) --> (27, 29), arit:785.0, geom:783.0\n",
      "(784,900) --> (28, 30), arit:842.0, geom:840.0\n",
      "(841,961) --> (29, 31), arit:901.0, geom:899.0\n",
      "(900,1024) --> (30, 32), arit:962.0, geom:960.0\n",
      "(961,1089) --> (31, 33), arit:1025.0, geom:1023.0\n",
      "(1024,1156) --> (32, 34), arit:1090.0, geom:1088.0\n",
      "(1089,1225) --> (33, 35), arit:1157.0, geom:1155.0\n",
      "(1156,1296) --> (34, 36), arit:1226.0, geom:1224.0\n",
      "(1225,1369) --> (35, 37), arit:1297.0, geom:1295.0\n",
      "(1296,1444) --> (36, 38), arit:1370.0, geom:1368.0\n",
      "(1369,1521) --> (37, 39), arit:1445.0, geom:1443.0\n",
      "(1444,1600) --> (38, 40), arit:1522.0, geom:1520.0\n",
      "(1521,1681) --> (39, 41), arit:1601.0, geom:1599.0\n",
      "(1600,1764) --> (40, 42), arit:1682.0, geom:1680.0\n",
      "(1681,1849) --> (41, 43), arit:1765.0, geom:1763.0\n",
      "(1764,1936) --> (42, 44), arit:1850.0, geom:1848.0\n",
      "[(1, 9), (4, 16), (9, 25), (16, 36), (25, 49), (36, 64), (49, 81), (64, 100), (81, 121), (100, 144), (121, 169), (144, 196), (169, 225), (196, 256), (225, 289), (256, 324), (289, 361), (324, 400), (361, 441), (400, 484), (441, 529), (484, 576), (529, 625), (576, 676), (625, 729), (676, 784), (729, 841), (784, 900), (841, 961), (900, 1024), (961, 1089), (1024, 1156), (1089, 1225), (1156, 1296), (1225, 1369), (1296, 1444), (1369, 1521), (1444, 1600), (1521, 1681), (1600, 1764), (1681, 1849), (1764, 1936)]\n"
     ]
    }
   ],
   "source": [
    "from itertools import combinations\n",
    "import math\n",
    "\n",
    "solutions = []\n",
    "\n",
    "for a, b in combinations(range(1, 2000), 2):\n",
    "    if (a+b)/2 - 2 == math.sqrt(a*b):\n",
    "        print(f\"({a},{b}) --> ({int(math.sqrt(a))}, {int(math.sqrt(b))}), arit:{(a+b)/2}, geom:{math.sqrt(a*b)}\")\n",
    "        solutions.append((a, b))\n",
    "\n",
    "print(solutions)\n"
   ]
  }
 ],
 "metadata": {
  "kernelspec": {
   "display_name": "Python 3",
   "language": "python",
   "name": "python3"
  },
  "language_info": {
   "codemirror_mode": {
    "name": "ipython",
    "version": 3
   },
   "file_extension": ".py",
   "mimetype": "text/x-python",
   "name": "python",
   "nbconvert_exporter": "python",
   "pygments_lexer": "ipython3",
   "version": "3.6.9"
  }
 },
 "nbformat": 4,
 "nbformat_minor": 2
}
